{
 "cells": [
  {
   "cell_type": "code",
   "execution_count": 80,
   "metadata": {},
   "outputs": [],
   "source": [
    "import numpy as np\n",
    "# import torch \n",
    "# from torch.nn.parameter import Parameter\n",
    "# from torch.nn import functional as F\n",
    "# from torch.nn import init\n",
    "# from torch.nn.module import Module\n",
    "import torch\n",
    "from torch.nn.parameter import Parameter\n",
    "from torch.nn import functional as F\n",
    "from torch.nn import init\n",
    "from torch.nn.modules.module import Module"
   ]
  },
  {
   "cell_type": "code",
   "execution_count": 3,
   "metadata": {},
   "outputs": [
    {
     "name": "stdout",
     "output_type": "stream",
     "text": [
      "[3, 5, 4, 2]\n"
     ]
    },
    {
     "data": {
      "text/plain": [
       "torch.Size([5, 4, 3, 2])"
      ]
     },
     "execution_count": 3,
     "metadata": {},
     "output_type": "execute_result"
    }
   ],
   "source": [
    "tensor1 = torch.randn(3, 5, 4, 2)\n",
    "print(list(tensor1.shape))\n",
    "## test the transpose\n",
    "b = tensor1.permute([1, 2, 0, 3])\n",
    "b.shape"
   ]
  },
  {
   "cell_type": "code",
   "execution_count": 82,
   "metadata": {},
   "outputs": [
    {
     "data": {
      "text/plain": [
       "torch.Size([5, 1])"
      ]
     },
     "execution_count": 82,
     "metadata": {},
     "output_type": "execute_result"
    }
   ],
   "source": [
    "tensor1 = torch.rand(5,1)\n",
    "tensor2 =torch.rand(5, 1)\n",
    "\n",
    "prod = tensor1.mul(tensor2)\n",
    "prod.shape"
   ]
  },
  {
   "cell_type": "code",
   "execution_count": 83,
   "metadata": {},
   "outputs": [
    {
     "data": {
      "text/plain": [
       "torch.Size([1])"
      ]
     },
     "execution_count": 83,
     "metadata": {},
     "output_type": "execute_result"
    }
   ],
   "source": [
    "scalarinput = torch.tensor([1])\n",
    "scalarinput.shape"
   ]
  },
  {
   "cell_type": "code",
   "execution_count": 85,
   "metadata": {},
   "outputs": [
    {
     "data": {
      "text/plain": [
       "torch.Size([3, 3, 1])"
      ]
     },
     "execution_count": 85,
     "metadata": {},
     "output_type": "execute_result"
    }
   ],
   "source": [
    "vector = torch.randn(3, 10, 1)\n",
    "weights = torch.randn(3, 10,1)\n",
    "res = F.conv1d(vector, weights)\n",
    "res.shape"
   ]
  },
  {
   "cell_type": "code",
   "execution_count": 67,
   "metadata": {},
   "outputs": [],
   "source": [
    "# define the TRL (tensor regression layer)\n",
    "class TensorRegressionLayer:\n",
    "    \n",
    "    ## unfold:  X -> X(n) from tensor to matrix, n is the mode index\n",
    "    @staticmethod\n",
    "    def unfold(tensor, mode):\n",
    "        shapelst = list(range(0, len(list(tensor.shape))))\n",
    "        print(\"shape list is {}\".format(shapelst))\n",
    "        result = tensor.permute([mode] + shapelst[:mode] + shapelst[mode+1:])\n",
    "        result = result.reshape(list(tensor.shape)[mode],-1)\n",
    "        return result\n",
    "    \n",
    "    ## fold X(n) -> X from matrix to tensor, n is the mode index\n",
    "    @staticmethod\n",
    "    def fold(tensor, mode, shape):\n",
    "        full_shape = list(shape)\n",
    "        ## move the mode from original place on the top of the list\n",
    "        mode_dim = full_shape.pop(mode)\n",
    "#         print(\"after pop {}\".format(full_shape))\n",
    "        full_shape.insert(0, mode_dim)\n",
    "#         print(\"full shape {}\".format(full_shape))\n",
    "        \n",
    "        if None in full_shape:\n",
    "            full_shape[full_shape.index(None)] = -1\n",
    "            \n",
    "        lst = list(range(1, len(full_shape)))\n",
    "        lst.insert(mode, 0)\n",
    "#         print(\"full shape {}\".format(full_shape))\n",
    "#         print(\"list {}\".format(lst))\n",
    "        result = tensor.view(full_shape)\n",
    "        return result.permute(lst)\n",
    "    \n",
    "    ## tensor \\times(n) matrix == matrix*tensor(n)[the mode n fiber of tensor]\n",
    "    @staticmethod\n",
    "    def mode_dot(tensor, matrix, mode):\n",
    "        newshape = list(tensor.shape)\n",
    "        if matrix.shape[1] != tensor.shape[mode]:\n",
    "            raise ValueError(\"Shape error. {0}(matrix's 2nd dimension) is not as same as {1} (dimension of the tensor)\".format\\\n",
    "                             (matrix.shape[1], tensor.shape[mode]))\n",
    "        \n",
    "        newshape[mode] = list(matrix.shape)[0]\n",
    "#         print(\"tensor shape is {}\".format(tensor.shape))\n",
    "\n",
    "        unfoldtensor = TensorRegressionLayer.unfold(tensor, mode)\n",
    "        res = matrix.matmul(TensorRegressionLayer.unfold(tensor, mode))\n",
    "        return TensorRegressionLayer.fold(res, mode, newshape)\n",
    "    \n",
    "    ## core times a list of factors which is a list of Matrix\n",
    "    @staticmethod \n",
    "    def tucker_to_tensor(core, factors):\n",
    "        for i, factor in enumerate(factors):\n",
    "            core = TensorRegressionLayer.mode_dot(core, factor, i)\n",
    "            \n",
    "        return core\n",
    "        \n",
    "    \n",
    "    ## multiple cores:\n",
    "    @staticmethod\n",
    "    def tt_to_tensor(cores):\n",
    "        tensor_size = []\n",
    "        ## get the shape of a list of cores\n",
    "        for c in cores:\n",
    "            tensor_size.append(list(c.shape)[1])\n",
    "        md = 2\n",
    "        newshape = list(cores[0].shape)[:-1] + list(cores[1])[1:]\n",
    "        t = TensorRegressionLayer.mode_dot(cores[0], TensorRegressionLayer.unfold(cores[1], 0), md)\n",
    "        t = t.reshape(newshape)\n",
    "        \n",
    "        for i in range(1, len(tensor_size)-1):\n",
    "            md = md+1\n",
    "            newshape = list(t.shape)[:-1] + list(cores[i+1].shape)[1:]\n",
    "            t = TensorRegressionLayer.mode_dot(t, TensorRegressionLayer.unfold(cores[i+1], 0), md)\n",
    "            t = t.reshape(t, newshape)\n",
    "            \n",
    "        return t.reshape(tensor_size)\n",
    "    \n",
    "    ## cp decomposition low rank of tensors with element dimension of  B_D:  dim D * r \n",
    "    ## r is the rank, \n",
    "    ## ranktensors: row index means the rank num, colums means the decomposed vectors\n",
    "    @staticmethod\n",
    "    def cp_to_tensor(rankrtensors):\n",
    "        \n",
    "        tsnr = rankrtensors[0][0]\n",
    "        newshape = []\n",
    "        newshape.append(tsnr.reshape([-1, 1]).shape[0])\n",
    "        for i in range(1, len(rankrtensors[0])):\n",
    "            tsnr = torch.mul(tsnr.reshape([-1, 1]), rankrtensors[0][i].reshape([1, -1]))\n",
    "            newshape.append(tsnr.shape[1])\n",
    "        ## if rank 1 approximation\n",
    "        if len(rankrtensors) == 1:\n",
    "            return (tsnr.reshape(newshape))\n",
    "        \n",
    "        for j in range(1, len(rankrtensors)):\n",
    "            t = rankrtensors[j][0]\n",
    "            for k in range(1,len(rankrtensors[j])):\n",
    "                t = torch.mul(t.reshape([-1, 1]), rankrtensors[j][k].reshape([1, -1]))\n",
    "                \n",
    "            tsnr = torch.add(tsnr, t)\n",
    "        \n",
    "        tsnr = tsnr.reshape(newshape)\n",
    "        return tsnr\n",
    "\n",
    "        \n",
    "   \n",
    "    # NUMPY\n",
    "    @staticmethod\n",
    "    def np_unfold(tensor, mode):\n",
    "        return np.moveaxis(tensor, mode, 0).reshape((tensor.shape[mode], -1))\n",
    "\n",
    "\n",
    "    @staticmethod\n",
    "    def np_fold(unfolded_tensor, mode, shape):\n",
    "        full_shape = list(shape)\n",
    "        mode_dim = full_shape.pop(mode)\n",
    "        full_shape.insert(0, mode_dim)\n",
    "        return np.moveaxis(unfolded_tensor.reshape(full_shape), 0, mode)\n",
    "\n",
    "    @staticmethod\n",
    "    def np_mode_dot(tensor, matrix, mode):\n",
    "        new_shape = list(tensor.shape)\n",
    "\n",
    "        if matrix.ndim == 2:  # Tensor times matrix\n",
    "            # Test for the validity of the operation\n",
    "            if matrix.shape[1] != tensor.shape[mode]:\n",
    "                raise ValueError(\n",
    "                    'shapes {0} and {1} not aligned in mode-{2} multiplication: {3} (mode {2}) != {4} (dim 1 of matrix)'.format(\n",
    "                        tensor.shape, matrix.shape, mode, tensor.shape[mode], matrix.shape[1]\n",
    "                    ))\n",
    "            new_shape[mode] = matrix.shape[0]\n",
    "\n",
    "        res = np.dot(matrix, TNSR.np_unfold(tensor, mode))\n",
    "\n",
    "        return TNSR.np_fold(res, mode, new_shape)\n",
    "    \n",
    "    \n",
    "    \n"
   ]
  },
  {
   "cell_type": "code",
   "execution_count": 68,
   "metadata": {},
   "outputs": [
    {
     "name": "stdout",
     "output_type": "stream",
     "text": [
      "shape list is [0, 1, 2, 3]\n"
     ]
    },
    {
     "data": {
      "text/plain": [
       "torch.Size([2, 60])"
      ]
     },
     "execution_count": 68,
     "metadata": {},
     "output_type": "execute_result"
    }
   ],
   "source": [
    "TRL = TensorRegressionLayer\n",
    "## test unfold\n",
    "c = TRL.unfold(tensor1, 3)\n",
    "c.shape"
   ]
  },
  {
   "cell_type": "code",
   "execution_count": 30,
   "metadata": {},
   "outputs": [
    {
     "name": "stdout",
     "output_type": "stream",
     "text": [
      "after pop [5, 4, 3]\n",
      "full shape [2, 5, 4, 3]\n",
      "list [1, 2, 3, 0]\n"
     ]
    },
    {
     "data": {
      "text/plain": [
       "torch.Size([5, 4, 3, 2])"
      ]
     },
     "execution_count": 30,
     "metadata": {},
     "output_type": "execute_result"
    }
   ],
   "source": [
    "## test fold\n",
    "d = TRL.fold(c, 3, [5, 4, 3, 2])\n",
    "d.shape"
   ]
  },
  {
   "cell_type": "code",
   "execution_count": 31,
   "metadata": {},
   "outputs": [
    {
     "name": "stdout",
     "output_type": "stream",
     "text": [
      "tensor shape is torch.Size([5, 4, 3, 2])\n",
      "shape list is [0, 1, 2, 3]\n",
      "shape list is [0, 1, 2, 3]\n",
      "after pop [5, 3, 2]\n",
      "full shape [10, 5, 3, 2]\n",
      "list [1, 0, 2, 3]\n"
     ]
    },
    {
     "data": {
      "text/plain": [
       "torch.Size([5, 10, 3, 2])"
      ]
     },
     "execution_count": 31,
     "metadata": {},
     "output_type": "execute_result"
    }
   ],
   "source": [
    "## test mode_dot\n",
    "matrix =  torch.randn(10, 4)\n",
    "res = TRL.mode_dot(d, matrix, 1)\n",
    "res.shape\n"
   ]
  },
  {
   "cell_type": "code",
   "execution_count": 37,
   "metadata": {},
   "outputs": [
    {
     "name": "stdout",
     "output_type": "stream",
     "text": [
      "tensor shape is torch.Size([5, 4, 3, 2])\n",
      "shape list is [0, 1, 2, 3]\n",
      "shape list is [0, 1, 2, 3]\n",
      "after pop [4, 3, 2]\n",
      "full shape [10, 4, 3, 2]\n",
      "list [0, 1, 2, 3]\n",
      "tensor shape is torch.Size([10, 4, 3, 2])\n",
      "shape list is [0, 1, 2, 3]\n",
      "shape list is [0, 1, 2, 3]\n",
      "after pop [10, 3, 2]\n",
      "full shape [15, 10, 3, 2]\n",
      "list [1, 0, 2, 3]\n",
      "tensor shape is torch.Size([10, 15, 3, 2])\n",
      "shape list is [0, 1, 2, 3]\n",
      "shape list is [0, 1, 2, 3]\n",
      "after pop [10, 15, 2]\n",
      "full shape [20, 10, 15, 2]\n",
      "list [1, 2, 0, 3]\n",
      "tensor shape is torch.Size([10, 15, 20, 2])\n",
      "shape list is [0, 1, 2, 3]\n",
      "shape list is [0, 1, 2, 3]\n",
      "after pop [10, 15, 20]\n",
      "full shape [25, 10, 15, 20]\n",
      "list [1, 2, 3, 0]\n"
     ]
    },
    {
     "data": {
      "text/plain": [
       "torch.Size([10, 15, 20, 25])"
      ]
     },
     "execution_count": 37,
     "metadata": {},
     "output_type": "execute_result"
    }
   ],
   "source": [
    "## test tucker_to_tensor\n",
    "factor1 = torch.randn(10, 5)\n",
    "factor2 = torch.randn(15, 4)\n",
    "factor3 = torch.randn(20, 3)\n",
    "factor4 = torch.randn(25, 2)\n",
    "factors =  [factor1, factor2, factor3, factor4] \n",
    "res = TRL.tucker_to_tensor(d, factors)\n",
    "res.shape\n"
   ]
  },
  {
   "cell_type": "code",
   "execution_count": 49,
   "metadata": {},
   "outputs": [
    {
     "name": "stdout",
     "output_type": "stream",
     "text": [
      "torch.Size([10, 5])\n",
      "view c torch.Size([50, 1])\n"
     ]
    },
    {
     "data": {
      "text/plain": [
       "torch.Size([10, 5, 6])"
      ]
     },
     "execution_count": 49,
     "metadata": {},
     "output_type": "execute_result"
    }
   ],
   "source": [
    "## test the torch.mul\n",
    "a = torch.rand(10, 1)\n",
    "b = torch.rand(5, 1)\n",
    "d = torch.rand(6, 1)\n",
    "\n",
    "c = torch.mul(a.view([-1, 1]), b.permute([1,0]))\n",
    "print(c.shape)\n",
    "c = c.view([-1, 1])\n",
    "print(\"view c {}\".format(c.shape))\n",
    "c =  torch.mul(c.view([-1, 1]), d.permute([1,0]))\n",
    "c.shape\n",
    "c = c.reshape([10, 5, 6])\n",
    "c.shape"
   ]
  },
  {
   "cell_type": "code",
   "execution_count": 69,
   "metadata": {},
   "outputs": [
    {
     "name": "stdout",
     "output_type": "stream",
     "text": [
      "2 3 tensor([[0.8084],\n",
      "        [0.4925],\n",
      "        [0.8658],\n",
      "        [0.4408],\n",
      "        [0.0052]])\n"
     ]
    },
    {
     "data": {
      "text/plain": [
       "torch.Size([10, 5, 6])"
      ]
     },
     "execution_count": 69,
     "metadata": {},
     "output_type": "execute_result"
    }
   ],
   "source": [
    "a1 = torch.rand(10, 1)\n",
    "b1 = torch.rand(5, 1)\n",
    "d1 = torch.rand(6, 1)\n",
    "\n",
    "a2 = torch.rand(10, 1)\n",
    "b2 = torch.rand(5, 1)\n",
    "d2 = torch.rand(6, 1)\n",
    "\n",
    "lst = [[a1,b1,d1], [a2,b2,d2]]\n",
    "print(len(lst), len(lst[0]), lst[0][1])\n",
    "res = TRL.cp_to_tensor(lst)\n",
    "res.shape"
   ]
  },
  {
   "cell_type": "code",
   "execution_count": 81,
   "metadata": {},
   "outputs": [
    {
     "data": {
      "text/plain": [
       "torch.Size([3, 4, 5])"
      ]
     },
     "execution_count": 81,
     "metadata": {},
     "output_type": "execute_result"
    }
   ],
   "source": [
    "## create an empty tensor then initialize it in a specific way\n",
    "testtensor = torch.empty(size = [3,4,5])\n",
    "testtensor = init.xavier_normal_(testtensor)\n",
    "testtensor.shape"
   ]
  },
  {
   "cell_type": "code",
   "execution_count": 88,
   "metadata": {},
   "outputs": [
    {
     "data": {
      "text/plain": [
       "torch.Size([1, 20])"
      ]
     },
     "execution_count": 88,
     "metadata": {},
     "output_type": "execute_result"
    }
   ],
   "source": [
    "## test F.linear for covariate\n",
    "inputt = torch.rand(1, 10)\n",
    "weightt = torch.rand(20, 10)\n",
    "res = F.linear(inputt, weightt)\n",
    "res.shape"
   ]
  },
  {
   "cell_type": "code",
   "execution_count": 93,
   "metadata": {},
   "outputs": [
    {
     "data": {
      "text/plain": [
       "torch.Size([1, 10, 30])"
      ]
     },
     "execution_count": 93,
     "metadata": {},
     "output_type": "execute_result"
    }
   ],
   "source": [
    "## test F.linear for tensors\n",
    "inputt = torch.rand(10 , 30)\n",
    "weightt = torch.rand(10, 30)\n",
    "res = torch.mul(inputt.view(-1 ,300), weightt.view(-1, 300))\n",
    "res.shape\n",
    "res = res.reshape([-1, 10, 30])\n",
    "res.shape"
   ]
  },
  {
   "cell_type": "code",
   "execution_count": null,
   "metadata": {},
   "outputs": [],
   "source": [
    "from torch.nn.parameter import Parameter\n",
    "from .. import functional as F\n",
    "from .. import init\n",
    "from .module import Module\n",
    "\n",
    "\n",
    "## Inherit from Function\n",
    "class TRL(Module)\n",
    "    \"\"\"\n",
    "    Tucker regression layer(trl)\n",
    "    Args:\n",
    "        input_tsr: the input tensor\n",
    "        rank: hyperparameter. Must be a list that specifies the Tucker rank of the regression tensor W.\n",
    "        output_tns: output tensor size\n",
    "\n",
    "\n",
    "    \"\"\"\n",
    "    __constants__ = ['input_tns', 'output_tns', 'ranks', 'bias']\n",
    "\n",
    "    \n",
    "    def __init__(self, input_tns, output_tns, ranks, bias=True):\n",
    "        super(TRL, self).__init__()\n",
    "        self.input_shape = list(input_tns.shape)\n",
    "        self.input = input_tns\n",
    "        self.output = output_tns\n",
    "        ## initialize the cores\n",
    "        self.cores = Parameter(torch.empty(ranks))\n",
    "        \n",
    "        ## initialize the factors\n",
    "        self.factors = [Parameter(torch.empty(self.input_shape[i], ranks[i]))\n",
    "                            for i in range(len(self.input_shape))]\n",
    "        if bias:\n",
    "            self.bias = Parameter(torch.empty(size=[1, output_tns]))\n",
    "        else:\n",
    "            self.register_parameter('bias', None)\n",
    "\n",
    "        self.factors.append(Parameter(init.xavier_normal_(size=(n_outputs, ranks[-1]))))\n",
    "            \n",
    "        self.reset_parameters()\n",
    "        \n",
    "        \n",
    "    def reset_parameters():\n",
    "        init.xavier_uniform_(self.cores)\n",
    "        for i in range(len(self.factors)):\n",
    "            init.xavier_uniform_(self.factors[i])\n",
    "            \n",
    "        if self.bias is not None:\n",
    "            init.xavier_uniform_(sefl.bias)\n",
    "                \n",
    "    #forward function, bias is optional\n",
    "    def forward(self, input):\n",
    "        regression_weights = TNSR.tucker_to_tensor(core, factors)\n",
    "        x_0 = input.reshape([-1, np.prod(self.input_shape)])\n",
    "        w_minus1 = tf.reshape(regression_weights, [np.prod(self.input_shape),n_outputs])\n",
    "        if self.bias is not None:\n",
    "            return tf.add(tf.matmul(x_0, w_minus1) ,bias)\n",
    "        \n",
    "        else:\n",
    "            return tf.add(tf.malmul(x0, w_minus1))"
   ]
  },
  {
   "cell_type": "code",
   "execution_count": 96,
   "metadata": {},
   "outputs": [
    {
     "data": {
      "text/plain": [
       "torch.Size([5, 10, 15])"
      ]
     },
     "execution_count": 96,
     "metadata": {},
     "output_type": "execute_result"
    }
   ],
   "source": [
    "## test on the parameter shape\n",
    "tensor = torch.empty([5, 10]+[15])\n",
    "tensor.shape\n"
   ]
  },
  {
   "cell_type": "code",
   "execution_count": 392,
   "metadata": {},
   "outputs": [],
   "source": [
    "## the class for Vector version\n",
    "import math\n",
    "\n",
    "class VecTRL(Module):\n",
    "    \"\"\"\n",
    "    The degressed version of Tucker innerproduct regression layer, \n",
    "                                 regression\n",
    "    vector variables + covariates --- > a vector\n",
    "    \n",
    "    Args: \n",
    "    intput_shape: a list of vectors size [p1, p2, ... pd]\n",
    "    inputcovariate: number of covariate [m]\n",
    "    outputtensor: the size of output tensor(vector), here must be a list format [n]\n",
    "    bias: whether use bias\n",
    "    Pay attention here!!!!!!!!!!!!!\n",
    "    We implement the tensor ---> tensor regression!! we need to flatten the matrix \n",
    "    to a lonnnng vector to call F.linear\n",
    "    \n",
    "    \"\"\"\n",
    "    \n",
    "    __constants__=['inputtensor', 'inputcovariate', 'outputtensor', 'bias']\n",
    "    \n",
    "    def __init__(self, input_shape, inputcovariate, outputtensor, bias=True):\n",
    "        super(VecTRL, self).__init__()\n",
    "\n",
    "        self.input_shape = input_shape\n",
    "        ## we just use the one dimension\n",
    "        self.covar_shape = inputcovariate[0]\n",
    "        ## we just use the one dimension for vector\n",
    "        self.output_shape = outputtensor[0]\n",
    "        \n",
    "        # Wtensor is the weighting list for a list of weighting for different input vectors\n",
    "        self.Wtensor = [Parameter(torch.empty(self.output_shape, self.input_shape[i]))\n",
    "                            for i in range(len(self.input_shape))]\n",
    "        self.Wcovar = Parameter(torch.empty(self.output_shape, self.covar_shape))\n",
    "        \n",
    "        if bias:\n",
    "            self.bias = Parameter(torch.empty(self.output_shape))\n",
    "        else:\n",
    "            self.register_parameter('bias', None)\n",
    "            \n",
    "        self.reset_parameters()\n",
    "        \n",
    "        \n",
    "    def reset_parameters(self):\n",
    "        \n",
    "        \n",
    "        for i in range(len(self.input_shape)):\n",
    "            \n",
    "            init.xavier_uniform_(self.Wtensor[i])\n",
    "        \n",
    "        init.kaiming_uniform_(self.Wcovar, a=math.sqrt(5))        \n",
    "        \n",
    "        if self.bias is not None:\n",
    "            fan_in, _ = init._calculate_fan_in_and_fan_out(self.Wcovar)\n",
    "            bound = 1 / math.sqrt(fan_in)\n",
    "            init.uniform_(self.bias, -bound, bound)\n",
    "            \n",
    "       \n",
    "            \n",
    "    def forward(self, tensors, covariate):\n",
    "        covtensor = F.linear(covariate, self.Wcovar)\n",
    "#         print(\"tensors number {}\".format(len(self.input_shape)))\n",
    "#         print(\"tensors shape {}\".format(tensors.shape))\n",
    "        for i in range(len(self.input_shape)):\n",
    "#             print(tensors.shape)\n",
    "            covtensor += F.linear(tensors[..., i, :], self.Wtensor[i])\n",
    "            \n",
    "            \n",
    "        covtensor += self.bias\n",
    "        \n",
    "        return covtensor\n",
    "        \n",
    "            \n",
    "    \n",
    "    "
   ]
  },
  {
   "cell_type": "code",
   "execution_count": 414,
   "metadata": {},
   "outputs": [],
   "source": [
    "### simulation on vectors-vectors regression\n",
    "input_shape = [2]\n",
    "convariate_shape = [2]\n",
    "output_shape = [2]\n",
    "learning_rate = 0.01\n",
    "model = VecTRL(input_shape, convariate_shape,output_shape)\n",
    "learning_rate = 0.01"
   ]
  },
  {
   "cell_type": "code",
   "execution_count": 415,
   "metadata": {},
   "outputs": [],
   "source": [
    "criterion = torch.nn.MSELoss() \n",
    "optimizer = torch.optim.SGD(model.parameters(), lr=learning_rate)\n"
   ]
  },
  {
   "cell_type": "code",
   "execution_count": 395,
   "metadata": {},
   "outputs": [
    {
     "name": "stdout",
     "output_type": "stream",
     "text": [
      "(1000, 2)\n",
      "[-0.23542834  0.60453927]\n"
     ]
    }
   ],
   "source": [
    "import numpy as np\n",
    "\n",
    "sample_size = 1000\n",
    "output_tensor = []\n",
    "output_mu = [0, 0]\n",
    "output_cov = [[1, 0], [0, 1]]\n",
    "output = np.random.multivariate_normal(output_mu, output_cov, (sample_size))\n",
    "print(output.shape)    \n",
    "print(output[2, :])"
   ]
  },
  {
   "cell_type": "code",
   "execution_count": 396,
   "metadata": {},
   "outputs": [
    {
     "data": {
      "image/png": "[encoded data removed]",
      "text/plain": [
       "<Figure size 432x288 with 1 Axes>"
      ]
     },
     "metadata": {
      "needs_background": "light"
     },
     "output_type": "display_data"
    }
   ],
   "source": [
    "import matplotlib.pyplot as plt\n",
    "\n",
    "plt.plot(output[:, 0].T, output[:, 1].T, 'x')\n",
    "plt.show()"
   ]
  },
  {
   "cell_type": "code",
   "execution_count": 397,
   "metadata": {},
   "outputs": [
    {
     "name": "stdout",
     "output_type": "stream",
     "text": [
      "(1000, 2)\n",
      "[ 0.68815857 -0.67752345]\n"
     ]
    },
    {
     "data": {
      "image/png": "[encoded data removed]",
      "text/plain": [
       "<Figure size 432x288 with 1 Axes>"
      ]
     },
     "metadata": {
      "needs_background": "light"
     },
     "output_type": "display_data"
    }
   ],
   "source": [
    "input1_mu = [0, 0]\n",
    "input1_cov = [[1, 0], [0, 1]]\n",
    "input1 = np.random.multivariate_normal(input1_mu, input1_cov, (sample_size))\n",
    "print(input1.shape)    \n",
    "print(input1[2, :])\n",
    "plt.plot(input1[:, 0].T, input1[:, 1].T, 'x')\n",
    "plt.show()"
   ]
  },
  {
   "cell_type": "code",
   "execution_count": 398,
   "metadata": {},
   "outputs": [
    {
     "name": "stdout",
     "output_type": "stream",
     "text": [
      "(1000, 2)\n",
      "[-1.55107099  4.29878775]\n"
     ]
    },
    {
     "data": {
      "image/png": "[encoded data removed]",
      "text/plain": [
       "<Figure size 432x288 with 1 Axes>"
      ]
     },
     "metadata": {
      "needs_background": "light"
     },
     "output_type": "display_data"
    }
   ],
   "source": [
    "input2_mu = [0, 5]\n",
    "input2_cov = [[1, 0], [0, 1]]\n",
    "input2 = np.random.multivariate_normal(input2_mu, input2_cov, (sample_size))\n",
    "print(input2.shape)    \n",
    "print(input2[2, :])\n",
    "plt.plot(input2[:, 0].T, input2[:, 1].T, 'x')\n",
    "plt.show()"
   ]
  },
  {
   "cell_type": "code",
   "execution_count": 399,
   "metadata": {},
   "outputs": [
    {
     "name": "stdout",
     "output_type": "stream",
     "text": [
      "(1000, 2)\n",
      "[4.13542008 3.86150883]\n"
     ]
    },
    {
     "name": "stderr",
     "output_type": "stream",
     "text": [
      "/Users/ham112/opt/anaconda3/envs/pytorch/lib/python3.6/site-packages/ipykernel_launcher.py:3: RuntimeWarning: covariance is not positive-semidefinite.\n",
      "  This is separate from the ipykernel package so we can avoid doing imports until\n"
     ]
    },
    {
     "data": {
      "image/png": "[encoded data removed]",
      "text/plain": [
       "<Figure size 432x288 with 1 Axes>"
      ]
     },
     "metadata": {
      "needs_background": "light"
     },
     "output_type": "display_data"
    }
   ],
   "source": [
    "input3_mu = [3, 1]\n",
    "input3_cov = [[1, 1], [3, 4]]\n",
    "input3 = np.random.multivariate_normal(input3_mu, input3_cov, (sample_size))\n",
    "print(input3.shape)    \n",
    "print(input3[2, :])\n",
    "plt.plot(input3[:, 0].T, input3[:, 1].T, 'x')\n",
    "plt.show()"
   ]
  },
  {
   "cell_type": "code",
   "execution_count": 400,
   "metadata": {},
   "outputs": [],
   "source": [
    "covariate = []\n",
    "mu= [0, 0]\n",
    "sigma= [0, 0]\n",
    "for i in range(convariate_shape[0]):\n",
    "    s = np.random.normal(mu[i], sigma[i], 1000)\n",
    "    covariate.append(s)\n",
    "    "
   ]
  },
  {
   "cell_type": "code",
   "execution_count": 406,
   "metadata": {},
   "outputs": [
    {
     "name": "stdout",
     "output_type": "stream",
     "text": [
      "input_tensor shape is: (1, 1000, 2)\n",
      "tensor shape is (1000, 1, 2)\n"
     ]
    }
   ],
   "source": [
    "## formalize the numpy input\n",
    "### formalize the tensors\n",
    "input_tensors = np.array([output], dtype='float')\n",
    "print(\"input_tensor shape is: {}\".format(input_tensors.shape))\n",
    "input_tensors = np.transpose(input_tensors, (1,0,2))\n",
    "print(\"tensor shape is {}\".format(input_tensors.shape))\n",
    "\n",
    "### formalize the covariate\n",
    "input_covar = np.array(covariate, dtype='float')\n",
    "\n",
    "### formalize the output\n",
    "output_tensor = output\n",
    "\n",
    "\n"
   ]
  },
  {
   "cell_type": "code",
   "execution_count": 402,
   "metadata": {},
   "outputs": [],
   "source": [
    "## Model settings\n",
    "batch_size = 4\n",
    "criterion = torch.nn.MSELoss() \n",
    "optimizer = torch.optim.SGD(model.parameters(), lr=learning_rate)\n"
   ]
  },
  {
   "cell_type": "code",
   "execution_count": 403,
   "metadata": {},
   "outputs": [
    {
     "name": "stdout",
     "output_type": "stream",
     "text": [
      "tensor([-0.1981,  0.0908], grad_fn=<SelectBackward>)\n",
      "tensor(0.2888, grad_fn=<NormBackward0>)\n",
      "tensor([ 0.3980, -0.6504], grad_fn=<SelectBackward>)\n",
      "tensor(1.0484, grad_fn=<NormBackward0>)\n"
     ]
    },
    {
     "data": {
      "text/plain": [
       "tensor([-0.1981,  0.0908,  0.3980, -0.6504], grad_fn=<CatBackward>)"
      ]
     },
     "execution_count": 403,
     "metadata": {},
     "output_type": "execute_result"
    }
   ],
   "source": [
    "for x in model.Wcovar:\n",
    "    print(x)\n",
    "    print(torch.norm(x,1))\n",
    "    \n",
    "flatten = torch.cat([x.view(-1) for x in model.Wcovar])\n",
    "flatten"
   ]
  },
  {
   "cell_type": "code",
   "execution_count": 404,
   "metadata": {},
   "outputs": [
    {
     "name": "stdout",
     "output_type": "stream",
     "text": [
      "torch.Size([2, 2])\n",
      "Parameter containing:\n",
      "tensor([[0.6186, 0.3068],\n",
      "        [1.1659, 0.5330]], requires_grad=True)\n",
      "tensor(2.6243, grad_fn=<NormBackward0>)\n"
     ]
    },
    {
     "data": {
      "text/plain": [
       "tensor([0.6186, 0.3068, 1.1659, 0.5330], grad_fn=<CatBackward>)"
      ]
     },
     "execution_count": 404,
     "metadata": {},
     "output_type": "execute_result"
    }
   ],
   "source": [
    "for x in model.Wtensor:\n",
    "    print(x.shape)\n",
    "    print(x)\n",
    "    print(torch.norm(x,1))\n",
    "\n",
    "flatten = torch.cat([x.view(-1) for x in model.Wtensor])\n",
    "flatten"
   ]
  },
  {
   "cell_type": "code",
   "execution_count": 405,
   "metadata": {},
   "outputs": [
    {
     "name": "stdout",
     "output_type": "stream",
     "text": [
      "input_tensor shape is: (3, 1000, 2)\n",
      "tensor shape is (1000, 3, 2)\n"
     ]
    }
   ],
   "source": [
    "## formalize the numpy input\n",
    "### formalize the tensors\n",
    "input_tensors = np.array([input1, input2, input3], dtype='float')\n",
    "print(\"input_tensor shape is: {}\".format(input_tensors.shape))\n",
    "input_tensors = np.transpose(input_tensors, (1,0,2))\n",
    "print(\"tensor shape is {}\".format(input_tensors.shape))\n",
    "\n",
    "### formalize the covariate\n",
    "input_covar = np.array(covariate, dtype='float')\n",
    "input_covar = np.transpose(input_covar, (1,0))\n",
    "\n",
    "### formalize the output\n",
    "output_tensor = output\n"
   ]
  },
  {
   "cell_type": "code",
   "execution_count": 407,
   "metadata": {},
   "outputs": [
    {
     "name": "stdout",
     "output_type": "stream",
     "text": [
      "tensor([[0., 0., 0., 0., 0., 0., 0., 0., 0., 0., 0., 0., 0., 0., 0., 0., 0., 0., 0., 0., 0., 0., 0., 0.,\n",
      "         0., 0., 0., 0., 0., 0., 0., 0., 0., 0., 0., 0., 0., 0., 0., 0., 0., 0., 0., 0., 0., 0., 0., 0.,\n",
      "         0., 0., 0., 0., 0., 0., 0., 0., 0., 0., 0., 0., 0., 0., 0., 0., 0., 0., 0., 0., 0., 0., 0., 0.,\n",
      "         0., 0., 0., 0., 0., 0., 0., 0., 0., 0., 0., 0., 0., 0., 0., 0., 0., 0., 0., 0., 0., 0., 0., 0.,\n",
      "         0., 0., 0., 0., 0., 0., 0., 0., 0., 0., 0., 0., 0., 0., 0., 0., 0., 0., 0., 0., 0., 0., 0., 0.,\n",
      "         0., 0., 0., 0., 0., 0., 0., 0., 0., 0., 0., 0., 0., 0., 0., 0., 0., 0., 0., 0., 0., 0., 0., 0.,\n",
      "         0., 0., 0., 0., 0., 0., 0., 0., 0., 0., 0., 0., 0., 0., 0., 0., 0., 0., 0., 0., 0., 0., 0., 0.,\n",
      "         0., 0., 0., 0., 0., 0., 0., 0., 0., 0., 0., 0., 0., 0., 0., 0., 0., 0., 0., 0., 0., 0., 0., 0.,\n",
      "         0., 0., 0., 0., 0., 0., 0., 0., 0., 0., 0., 0., 0., 0., 0., 0., 0., 0., 0., 0., 0., 0., 0., 0.,\n",
      "         0., 0., 0., 0., 0., 0., 0., 0., 0., 0., 0., 0., 0., 0., 0., 0., 0., 0., 0., 0., 0., 0., 0., 0.,\n",
      "         0., 0., 0., 0., 0., 0., 0., 0., 0., 0., 0., 0., 0., 0., 0., 0., 0., 0., 0., 0., 0., 0., 0., 0.,\n",
      "         0., 0., 0., 0., 0., 0., 0., 0., 0., 0., 0., 0., 0., 0., 0., 0., 0., 0., 0., 0., 0., 0., 0., 0.,\n",
      "         0., 0., 0., 0., 0., 0., 0., 0., 0., 0., 0., 0., 0., 0., 0., 0., 0., 0., 0., 0., 0., 0., 0., 0.,\n",
      "         0., 0., 0., 0., 0., 0., 0., 0., 0., 0., 0., 0., 0., 0., 0., 0., 0., 0., 0., 0., 0., 0., 0., 0.,\n",
      "         0., 0., 0., 0., 0., 0., 0., 0., 0., 0., 0., 0., 0., 0., 0., 0., 0., 0., 0., 0., 0., 0., 0., 0.,\n",
      "         0., 0., 0., 0., 0., 0., 0., 0., 0., 0., 0., 0., 0., 0., 0., 0., 0., 0., 0., 0., 0., 0., 0., 0.,\n",
      "         0., 0., 0., 0., 0., 0., 0., 0., 0., 0., 0., 0., 0., 0., 0., 0., 0., 0., 0., 0., 0., 0., 0., 0.,\n",
      "         0., 0., 0., 0., 0., 0., 0., 0., 0., 0., 0., 0., 0., 0., 0., 0., 0., 0., 0., 0., 0., 0., 0., 0.,\n",
      "         0., 0., 0., 0., 0., 0., 0., 0., 0., 0., 0., 0., 0., 0., 0., 0., 0., 0., 0., 0., 0., 0., 0., 0.,\n",
      "         0., 0., 0., 0., 0., 0., 0., 0., 0., 0., 0., 0., 0., 0., 0., 0., 0., 0., 0., 0., 0., 0., 0., 0.,\n",
      "         0., 0., 0., 0., 0., 0., 0., 0., 0., 0., 0., 0., 0., 0., 0., 0., 0., 0., 0., 0., 0., 0., 0., 0.,\n",
      "         0., 0., 0., 0., 0., 0., 0., 0., 0., 0., 0., 0., 0., 0., 0., 0., 0., 0., 0., 0., 0., 0., 0., 0.,\n",
      "         0., 0., 0., 0., 0., 0., 0., 0., 0., 0., 0., 0., 0., 0., 0., 0., 0., 0., 0., 0., 0., 0., 0., 0.,\n",
      "         0., 0., 0., 0., 0., 0., 0., 0., 0., 0., 0., 0., 0., 0., 0., 0., 0., 0., 0., 0., 0., 0., 0., 0.,\n",
      "         0., 0., 0., 0., 0., 0., 0., 0., 0., 0., 0., 0., 0., 0., 0., 0., 0., 0., 0., 0., 0., 0., 0., 0.,\n",
      "         0., 0., 0., 0., 0., 0., 0., 0., 0., 0., 0., 0., 0., 0., 0., 0., 0., 0., 0., 0., 0., 0., 0., 0.,\n",
      "         0., 0., 0., 0., 0., 0., 0., 0., 0., 0., 0., 0., 0., 0., 0., 0., 0., 0., 0., 0., 0., 0., 0., 0.,\n",
      "         0., 0., 0., 0., 0., 0., 0., 0., 0., 0., 0., 0., 0., 0., 0., 0., 0., 0., 0., 0., 0., 0., 0., 0.,\n",
      "         0., 0., 0., 0., 0., 0., 0., 0., 0., 0., 0., 0., 0., 0., 0., 0., 0., 0., 0., 0., 0., 0., 0., 0.,\n",
      "         0., 0., 0., 0., 0., 0., 0., 0., 0., 0., 0., 0., 0., 0., 0., 0., 0., 0., 0., 0., 0., 0., 0., 0.,\n",
      "         0., 0., 0., 0., 0., 0., 0., 0., 0., 0., 0., 0., 0., 0., 0., 0., 0., 0., 0., 0., 0., 0., 0., 0.,\n",
      "         0., 0., 0., 0., 0., 0., 0., 0., 0., 0., 0., 0., 0., 0., 0., 0., 0., 0., 0., 0., 0., 0., 0., 0.,\n",
      "         0., 0., 0., 0., 0., 0., 0., 0., 0., 0., 0., 0., 0., 0., 0., 0., 0., 0., 0., 0., 0., 0., 0., 0.,\n",
      "         0., 0., 0., 0., 0., 0., 0., 0., 0., 0., 0., 0., 0., 0., 0., 0., 0., 0., 0., 0., 0., 0., 0., 0.,\n",
      "         0., 0., 0., 0., 0., 0., 0., 0., 0., 0., 0., 0., 0., 0., 0., 0., 0., 0., 0., 0., 0., 0., 0., 0.,\n",
      "         0., 0., 0., 0., 0., 0., 0., 0., 0., 0., 0., 0., 0., 0., 0., 0., 0., 0., 0., 0., 0., 0., 0., 0.,\n",
      "         0., 0., 0., 0., 0., 0., 0., 0., 0., 0., 0., 0., 0., 0., 0., 0., 0., 0., 0., 0., 0., 0., 0., 0.,\n",
      "         0., 0., 0., 0., 0., 0., 0., 0., 0., 0., 0., 0., 0., 0., 0., 0., 0., 0., 0., 0., 0., 0., 0., 0.,\n",
      "         0., 0., 0., 0., 0., 0., 0., 0., 0., 0., 0., 0., 0., 0., 0., 0., 0., 0., 0., 0., 0., 0., 0., 0.,\n",
      "         0., 0., 0., 0., 0., 0., 0., 0., 0., 0., 0., 0., 0., 0., 0., 0., 0., 0., 0., 0., 0., 0., 0., 0.,\n",
      "         0., 0., 0., 0., 0., 0., 0., 0., 0., 0., 0., 0., 0., 0., 0., 0., 0., 0., 0., 0., 0., 0., 0., 0.,\n",
      "         0., 0., 0., 0., 0., 0., 0., 0., 0., 0., 0., 0., 0., 0., 0., 0.]],\n",
      "       dtype=torch.float64) tensor([[0., 0., 0., 0., 0., 0., 0., 0., 0., 0., 0., 0., 0., 0., 0., 0., 0., 0., 0., 0., 0., 0., 0., 0.,\n",
      "         0., 0., 0., 0., 0., 0., 0., 0., 0., 0., 0., 0., 0., 0., 0., 0., 0., 0., 0., 0., 0., 0., 0., 0.,\n",
      "         0., 0., 0., 0., 0., 0., 0., 0., 0., 0., 0., 0., 0., 0., 0., 0., 0., 0., 0., 0., 0., 0., 0., 0.,\n",
      "         0., 0., 0., 0., 0., 0., 0., 0., 0., 0., 0., 0., 0., 0., 0., 0., 0., 0., 0., 0., 0., 0., 0., 0.,\n",
      "         0., 0., 0., 0., 0., 0., 0., 0., 0., 0., 0., 0., 0., 0., 0., 0., 0., 0., 0., 0., 0., 0., 0., 0.,\n",
      "         0., 0., 0., 0., 0., 0., 0., 0., 0., 0., 0., 0., 0., 0., 0., 0., 0., 0., 0., 0., 0., 0., 0., 0.,\n",
      "         0., 0., 0., 0., 0., 0., 0., 0., 0., 0., 0., 0., 0., 0., 0., 0., 0., 0., 0., 0., 0., 0., 0., 0.,\n",
      "         0., 0., 0., 0., 0., 0., 0., 0., 0., 0., 0., 0., 0., 0., 0., 0., 0., 0., 0., 0., 0., 0., 0., 0.,\n",
      "         0., 0., 0., 0., 0., 0., 0., 0., 0., 0., 0., 0., 0., 0., 0., 0., 0., 0., 0., 0., 0., 0., 0., 0.,\n",
      "         0., 0., 0., 0., 0., 0., 0., 0., 0., 0., 0., 0., 0., 0., 0., 0., 0., 0., 0., 0., 0., 0., 0., 0.,\n",
      "         0., 0., 0., 0., 0., 0., 0., 0., 0., 0., 0., 0., 0., 0., 0., 0., 0., 0., 0., 0., 0., 0., 0., 0.,\n",
      "         0., 0., 0., 0., 0., 0., 0., 0., 0., 0., 0., 0., 0., 0., 0., 0., 0., 0., 0., 0., 0., 0., 0., 0.,\n",
      "         0., 0., 0., 0., 0., 0., 0., 0., 0., 0., 0., 0., 0., 0., 0., 0., 0., 0., 0., 0., 0., 0., 0., 0.,\n",
      "         0., 0., 0., 0., 0., 0., 0., 0., 0., 0., 0., 0., 0., 0., 0., 0., 0., 0., 0., 0., 0., 0., 0., 0.,\n",
      "         0., 0., 0., 0., 0., 0., 0., 0., 0., 0., 0., 0., 0., 0., 0., 0., 0., 0., 0., 0., 0., 0., 0., 0.,\n",
      "         0., 0., 0., 0., 0., 0., 0., 0., 0., 0., 0., 0., 0., 0., 0., 0., 0., 0., 0., 0., 0., 0., 0., 0.,\n",
      "         0., 0., 0., 0., 0., 0., 0., 0., 0., 0., 0., 0., 0., 0., 0., 0., 0., 0., 0., 0., 0., 0., 0., 0.,\n",
      "         0., 0., 0., 0., 0., 0., 0., 0., 0., 0., 0., 0., 0., 0., 0., 0., 0., 0., 0., 0., 0., 0., 0., 0.,\n",
      "         0., 0., 0., 0., 0., 0., 0., 0., 0., 0., 0., 0., 0., 0., 0., 0., 0., 0., 0., 0., 0., 0., 0., 0.,\n",
      "         0., 0., 0., 0., 0., 0., 0., 0., 0., 0., 0., 0., 0., 0., 0., 0., 0., 0., 0., 0., 0., 0., 0., 0.,\n",
      "         0., 0., 0., 0., 0., 0., 0., 0., 0., 0., 0., 0., 0., 0., 0., 0., 0., 0., 0., 0., 0., 0., 0., 0.,\n",
      "         0., 0., 0., 0., 0., 0., 0., 0., 0., 0., 0., 0., 0., 0., 0., 0., 0., 0., 0., 0., 0., 0., 0., 0.,\n",
      "         0., 0., 0., 0., 0., 0., 0., 0., 0., 0., 0., 0., 0., 0., 0., 0., 0., 0., 0., 0., 0., 0., 0., 0.,\n",
      "         0., 0., 0., 0., 0., 0., 0., 0., 0., 0., 0., 0., 0., 0., 0., 0., 0., 0., 0., 0., 0., 0., 0., 0.,\n",
      "         0., 0., 0., 0., 0., 0., 0., 0., 0., 0., 0., 0., 0., 0., 0., 0., 0., 0., 0., 0., 0., 0., 0., 0.,\n",
      "         0., 0., 0., 0., 0., 0., 0., 0., 0., 0., 0., 0., 0., 0., 0., 0., 0., 0., 0., 0., 0., 0., 0., 0.,\n",
      "         0., 0., 0., 0., 0., 0., 0., 0., 0., 0., 0., 0., 0., 0., 0., 0., 0., 0., 0., 0., 0., 0., 0., 0.,\n",
      "         0., 0., 0., 0., 0., 0., 0., 0., 0., 0., 0., 0., 0., 0., 0., 0., 0., 0., 0., 0., 0., 0., 0., 0.,\n",
      "         0., 0., 0., 0., 0., 0., 0., 0., 0., 0., 0., 0., 0., 0., 0., 0., 0., 0., 0., 0., 0., 0., 0., 0.,\n",
      "         0., 0., 0., 0., 0., 0., 0., 0., 0., 0., 0., 0., 0., 0., 0., 0., 0., 0., 0., 0., 0., 0., 0., 0.,\n",
      "         0., 0., 0., 0., 0., 0., 0., 0., 0., 0., 0., 0., 0., 0., 0., 0., 0., 0., 0., 0., 0., 0., 0., 0.,\n",
      "         0., 0., 0., 0., 0., 0., 0., 0., 0., 0., 0., 0., 0., 0., 0., 0., 0., 0., 0., 0., 0., 0., 0., 0.,\n",
      "         0., 0., 0., 0., 0., 0., 0., 0., 0., 0., 0., 0., 0., 0., 0., 0., 0., 0., 0., 0., 0., 0., 0., 0.,\n",
      "         0., 0., 0., 0., 0., 0., 0., 0., 0., 0., 0., 0., 0., 0., 0., 0., 0., 0., 0., 0., 0., 0., 0., 0.,\n",
      "         0., 0., 0., 0., 0., 0., 0., 0., 0., 0., 0., 0., 0., 0., 0., 0., 0., 0., 0., 0., 0., 0., 0., 0.,\n",
      "         0., 0., 0., 0., 0., 0., 0., 0., 0., 0., 0., 0., 0., 0., 0., 0., 0., 0., 0., 0., 0., 0., 0., 0.,\n",
      "         0., 0., 0., 0., 0., 0., 0., 0., 0., 0., 0., 0., 0., 0., 0., 0., 0., 0., 0., 0., 0., 0., 0., 0.,\n",
      "         0., 0., 0., 0., 0., 0., 0., 0., 0., 0., 0., 0., 0., 0., 0., 0., 0., 0., 0., 0., 0., 0., 0., 0.,\n",
      "         0., 0., 0., 0., 0., 0., 0., 0., 0., 0., 0., 0., 0., 0., 0., 0., 0., 0., 0., 0., 0., 0., 0., 0.,\n",
      "         0., 0., 0., 0., 0., 0., 0., 0., 0., 0., 0., 0., 0., 0., 0., 0., 0., 0., 0., 0., 0., 0., 0., 0.,\n",
      "         0., 0., 0., 0., 0., 0., 0., 0., 0., 0., 0., 0., 0., 0., 0., 0., 0., 0., 0., 0., 0., 0., 0., 0.,\n",
      "         0., 0., 0., 0., 0., 0., 0., 0., 0., 0., 0., 0., 0., 0., 0., 0.]],\n",
      "       dtype=torch.float64)\n",
      "torch.Size([2, 1000])\n",
      "\n",
      "tensor([[[-0.0432, -0.0860]]], dtype=torch.float64) tensor([[[1.0402, 0.9842]]], dtype=torch.float64)\n",
      "torch.Size([1000, 1, 2])\n"
     ]
    }
   ],
   "source": [
    "## normalize the data\n",
    "def normalize(x):\n",
    "    maxx =  x.max(0, keepdim=True).values\n",
    "    mean =  x.mean(0, keepdim=True)\n",
    "    std = x.std(0, keepdim=True)\n",
    "#     print(mean, std)\n",
    "    x_normed = x - mean / std\n",
    "    return x_normed\n",
    "\n",
    "# print(input_covar)\n",
    "print(normalize(torch.tensor(input_covar)).shape)\n",
    "\n",
    "print()\n",
    "# print(input_tensors)\n",
    "print(normalize(torch.tensor(input_tensors)).shape)\n",
    "\n",
    "\n",
    "\n"
   ]
  },
  {
   "cell_type": "code",
   "execution_count": 408,
   "metadata": {},
   "outputs": [
    {
     "name": "stdout",
     "output_type": "stream",
     "text": [
      "tensor([[-1.3178,  3.9580]]) tensor([[3.0069, 5.9706]])\n",
      "tensor([[[-0.0432, -0.0860]]], dtype=torch.float64) tensor([[[1.0402, 0.9842]]], dtype=torch.float64)\n"
     ]
    },
    {
     "name": "stderr",
     "output_type": "stream",
     "text": [
      "/Users/ham112/opt/anaconda3/envs/pytorch/lib/python3.6/site-packages/ipykernel_launcher.py:1: UserWarning: To copy construct from a tensor, it is recommended to use sourceTensor.clone().detach() or sourceTensor.clone().detach().requires_grad_(True), rather than torch.tensor(sourceTensor).\n",
      "  \"\"\"Entry point for launching an IPython kernel.\n"
     ]
    }
   ],
   "source": [
    "input_covars = normalize(torch.tensor(input_covars))\n",
    "input_tensors = normalize(torch.tensor(input_tensors))"
   ]
  },
  {
   "cell_type": "code",
   "execution_count": 356,
   "metadata": {},
   "outputs": [
    {
     "ename": "SyntaxError",
     "evalue": "invalid syntax (<ipython-input-356-df705d9f41c5>, line 7)",
     "output_type": "error",
     "traceback": [
      "\u001b[0;36m  File \u001b[0;32m\"<ipython-input-356-df705d9f41c5>\"\u001b[0;36m, line \u001b[0;32m7\u001b[0m\n\u001b[0;31m    print(\"t shape is {}\".(t.shape))\u001b[0m\n\u001b[0m                          ^\u001b[0m\n\u001b[0;31mSyntaxError\u001b[0m\u001b[0;31m:\u001b[0m invalid syntax\n"
     ]
    }
   ],
   "source": [
    "def normalize(x):\n",
    "    x_normed = x / x.max(0, keepdim=True)[0]\n",
    "    return x_normed\n",
    "\n",
    "\n",
    "t = torch.tensor([[1000, 10, 0.5], [765, 5, 0.35], [800, 7, 0.09]])\n",
    "print(\"t shape is {}\".(t.shape))\n",
    "print(normalize(t))\n"
   ]
  },
  {
   "cell_type": "code",
   "execution_count": 416,
   "metadata": {},
   "outputs": [
    {
     "name": "stdout",
     "output_type": "stream",
     "text": [
      "input tensor type torch.Size([1000, 1, 2])\n",
      "input covar type torch.Size([1000, 2])\n",
      "output tensors type torch.Size([1000, 2])\n",
      "input_tensors shape torch.Size([1000, 1, 2])\n",
      "tensor(16.6724, grad_fn=<AddBackward0>)\n",
      "epoch 0, loss 16.672378540039062\n"
     ]
    }
   ],
   "source": [
    "lambda1 = 0\n",
    "epochs = 1\n",
    "from torch.autograd import Variable\n",
    "\n",
    "\n",
    "input_tensors = Variable(input_tensors.float())\n",
    "input_covars = Variable(input_covars.float())       \n",
    "output_tensors = Variable(torch.from_numpy(output).float())\n",
    "\n",
    "\n",
    "\n",
    "print(\"input tensor type {}\".format(input_tensors.shape))\n",
    "print(\"input covar type {}\".format(input_covars.shape))\n",
    "print(\"output tensors type {}\".format(output_tensors.shape))\n",
    "\n",
    "\n",
    "losses = []\n",
    "\n",
    "for epoch in range(epochs):\n",
    "    # Converting inputs and labels to Variable\n",
    "    \n",
    "#     input_tensors = Variable(torch.from_numpy(input_tensors))\n",
    "#     input_covars = Variable(torch.from_numpy(input_covar))       \n",
    "#     output_tensors = Variable(torch.from_numpy(output))\n",
    "\n",
    "    # Clear gradient buffers because we don't want any gradient from previous epoch to carry forward, dont want to cummulate gradients\n",
    "    optimizer.zero_grad()\n",
    "\n",
    "    # get output from the model, given the inputs\n",
    "    print(\"input_tensors shape {}\".format(input_tensors.shape))\n",
    "    outputs = model(input_tensors,input_covars)\n",
    "\n",
    "    # get loss for the predicted output\n",
    "    loss = criterion(outputs, output_tensors)\n",
    "    \n",
    "    ## add regularization\n",
    "    all_linear_cov_params = torch.cat([x.view(-1) for x in model.Wcovar])\n",
    "    all_linear_tensor_params = torch.cat([x.view(-1) for x in model.Wtensor])\n",
    "    \n",
    "    l1_tensor_regularization = lambda1 * torch.norm(all_linear_tensor_params, 1)\n",
    "    l1_covar_regularization = lambda1 * torch.norm(all_linear_cov_params, 1)\n",
    "    \n",
    "    loss = loss + l1_tensor_regularization + l1_covar_regularization\n",
    "    losses.append(loss)\n",
    "\n",
    "    print(loss)\n",
    "    # get gradients w.r.t to parameters\n",
    "    loss.backward()\n",
    "\n",
    "    # update parameters\n",
    "    optimizer.step()\n",
    "\n",
    "    print('epoch {}, loss {}'.format(epoch, loss.item()))"
   ]
  },
  {
   "cell_type": "code",
   "execution_count": 417,
   "metadata": {},
   "outputs": [
    {
     "data": {
      "text/plain": [
       "[<matplotlib.lines.Line2D at 0x1289b9c50>]"
      ]
     },
     "execution_count": 417,
     "metadata": {},
     "output_type": "execute_result"
    },
    {
     "data": {
      "image/png": "[encoded data removed]",
      "text/plain": [
       "<Figure size 432x288 with 1 Axes>"
      ]
     },
     "metadata": {
      "needs_background": "light"
     },
     "output_type": "display_data"
    }
   ],
   "source": [
    "import matplotlib.pyplot as plt\n",
    "\n",
    "plt.plot(range(len(losses)), losses)"
   ]
  },
  {
   "cell_type": "code",
   "execution_count": 418,
   "metadata": {},
   "outputs": [
    {
     "data": {
      "text/plain": [
       "Parameter containing:\n",
       "tensor([[ 0.2195,  0.3629],\n",
       "        [-0.4152,  0.1996]], requires_grad=True)"
      ]
     },
     "execution_count": 418,
     "metadata": {},
     "output_type": "execute_result"
    }
   ],
   "source": [
    "model.Wcovar"
   ]
  },
  {
   "cell_type": "code",
   "execution_count": 419,
   "metadata": {},
   "outputs": [
    {
     "data": {
      "text/plain": [
       "[Parameter containing:\n",
       " tensor([[ 0.6094,  0.4551],\n",
       "         [ 0.9162, -0.6507]], requires_grad=True)]"
      ]
     },
     "execution_count": 419,
     "metadata": {},
     "output_type": "execute_result"
    }
   ],
   "source": [
    "model.Wtensor"
   ]
  },
  {
   "cell_type": "code",
   "execution_count": 413,
   "metadata": {},
   "outputs": [
    {
     "name": "stdout",
     "output_type": "stream",
     "text": [
      "(2, 2)\n"
     ]
    },
    {
     "data": {
      "text/plain": [
       "array([[1173614.98705122,  -64804.73589067],\n",
       "       [ -64804.73589067,  951855.22363061]])"
      ]
     },
     "execution_count": 413,
     "metadata": {},
     "output_type": "execute_result"
    }
   ],
   "source": [
    "a = np.matmul(output.T, output)\n",
    "print(a.shape)\n",
    "b = np.matmul(a.T, a)\n",
    "b"
   ]
  },
  {
   "cell_type": "code",
   "execution_count": null,
   "metadata": {},
   "outputs": [],
   "source": []
  }
 ],
 "metadata": {
  "kernelspec": {
   "display_name": "Python 3",
   "language": "python",
   "name": "python3"
  },
  "language_info": {
   "codemirror_mode": {
    "name": "ipython",
    "version": 3
   },
   "file_extension": ".py",
   "mimetype": "text/x-python",
   "name": "python",
   "nbconvert_exporter": "python",
   "pygments_lexer": "ipython3",
   "version": "3.6.10"
  }
 },
 "nbformat": 4,
 "nbformat_minor": 4
}
